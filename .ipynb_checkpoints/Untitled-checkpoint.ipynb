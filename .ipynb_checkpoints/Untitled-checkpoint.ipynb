{
 "cells": [
  {
   "cell_type": "code",
   "execution_count": null,
   "metadata": {
    "collapsed": true
   },
   "outputs": [],
   "source": [
    "def geographic_to_Cartesian (points):\n",
    "    if len ( points.shape ) == 1:\n",
    "        nrows = 1\n",
    "    else:\n",
    "        nrows = points.shape[0]\n",
    "        \n",
    "    new_points = numpy.zeros ( ( len(points) , 3 ))\n",
    "    \n",
    "    theta = numpy.pi / 2 - points[... , 1]\n",
    "    phi = points[... , 0]\n",
    "    \n",
    "    new_points[...,0] = numpy.sin ( theta ) * numpy.cos ( phi )\n",
    "    new_points[...,1] = numpy.sin ( theta ) * numpy.sin ( phi )\n",
    "    new_points[...,2] = numpy.cos ( theta )\n",
    "    \n",
    "    if len ( points.shape ) == 1:\n",
    "        return new_points[0]\n",
    "    else:\n",
    "        return new_points\n",
    "\n",
    "def geographic_to_spherical (points):\n",
    "    new_points = points.copy()\n",
    "    \n",
    "    new_points[...,0] = numpy.pi / 2 - points[...,1]\n",
    "    new_points[...,1] = points[...,0]\n",
    "        \n",
    "    return new_points\n",
    "\n",
    "def spherical_to_cartesian (points):\n",
    "    new_points = numpy.zeros ( ( len(points) , 3 ) , dtype = float)\n",
    "    \n",
    "    new_points[...,0] = numpy.sin ( points[...,0] ) * numpy.cos ( points[...,1] )\n",
    "    new_points[...,1] = numpy.sin ( points[...,0] ) * numpy.sin ( points[...,1] )\n",
    "    new_points[...,2] = numpy.cos ( points[...,0] )\n",
    "        \n",
    "    return new_points"
   ]
  }
 ],
 "metadata": {
  "kernelspec": {
   "display_name": "Python [Root]",
   "language": "python",
   "name": "Python [Root]"
  },
  "language_info": {
   "codemirror_mode": {
    "name": "ipython",
    "version": 3
   },
   "file_extension": ".py",
   "mimetype": "text/x-python",
   "name": "python",
   "nbconvert_exporter": "python",
   "pygments_lexer": "ipython3",
   "version": "3.5.2"
  }
 },
 "nbformat": 4,
 "nbformat_minor": 2
}
