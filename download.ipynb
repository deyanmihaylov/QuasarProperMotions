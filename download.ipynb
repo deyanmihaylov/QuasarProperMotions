{
 "cells": [
  {
   "cell_type": "code",
   "execution_count": 2,
   "metadata": {
    "collapsed": false
   },
   "outputs": [],
   "source": [
    "from astroquery.utils.tap.core import Tap\n",
    "\n",
    "gaiaURL = \"http://gea.esac.esa.int/tap-server/tap\"\n",
    "\n",
    "query2 = \"SELECT * FROM gaiadr2.gaia_source AS gaia WHERE gaia.frame_rotator_object_type = 2\"\n",
    "query3 = \"SELECT * FROM gaiadr2.gaia_source AS gaia WHERE gaia.frame_rotator_object_type = 3\"\n",
    "\n",
    "gaia = Tap(url=gaiaURL)\n",
    "\n",
    "job2 = gaia.launch_job_async(query2, name=None, output_file=\"type2.csv\",\n",
    "                         output_format=\"csv\", verbose=False,\n",
    "                         dump_to_file=True, background=False,\n",
    "                         upload_resource=None, upload_table_name=None)\n",
    "\n",
    "job3 = gaia.launch_job_async(query3, name=None, output_file=\"type3.csv\",\n",
    "                         output_format=\"csv\", verbose=False,\n",
    "                         dump_to_file=True, background=False,\n",
    "                         upload_resource=None, upload_table_name=None)\n"
   ]
  },
  {
   "cell_type": "code",
   "execution_count": null,
   "metadata": {
    "collapsed": true
   },
   "outputs": [],
   "source": []
  }
 ],
 "metadata": {
  "kernelspec": {
   "display_name": "Python [Root]",
   "language": "python",
   "name": "Python [Root]"
  },
  "language_info": {
   "codemirror_mode": {
    "name": "ipython",
    "version": 3
   },
   "file_extension": ".py",
   "mimetype": "text/x-python",
   "name": "python",
   "nbconvert_exporter": "python",
   "pygments_lexer": "ipython3",
   "version": "3.5.2"
  }
 },
 "nbformat": 4,
 "nbformat_minor": 2
}
